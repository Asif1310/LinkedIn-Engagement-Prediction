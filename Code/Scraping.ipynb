{
  "cells": [
    {
      "cell_type": "markdown",
      "id": "6b46f78f",
      "metadata": {
        "id": "6b46f78f"
      },
      "source": [
        "## Importing Libraries"
      ]
    },
    {
      "cell_type": "code",
      "execution_count": null,
      "id": "6e3ee242",
      "metadata": {
        "id": "6e3ee242"
      },
      "outputs": [],
      "source": [
        "from selenium import webdriver\n",
        "from selenium.webdriver.chrome.options import Options\n",
        "from selenium.webdriver.common.keys import Keys\n",
        "from selenium.webdriver.common.by import By\n",
        "from selenium.webdriver.support.ui import WebDriverWait\n",
        "from selenium.webdriver.common.action_chains import ActionChains\n",
        "import time"
      ]
    },
    {
      "cell_type": "markdown",
      "id": "939c5a3f",
      "metadata": {
        "id": "939c5a3f"
      },
      "source": [
        "## Setting Options"
      ]
    },
    {
      "cell_type": "code",
      "execution_count": null,
      "id": "94674cae",
      "metadata": {
        "id": "94674cae",
        "outputId": "e302935f-b661-4783-e4ac-bb1d26337cf3"
      },
      "outputs": [
        {
          "name": "stderr",
          "output_type": "stream",
          "text": [
            "C:\\Users\\sasif\\AppData\\Local\\Temp\\ipykernel_9768\\2564630191.py:5: DeprecationWarning: headless property is deprecated, instead use add_argument('--headless') or add_argument('--headless=new')\n",
            "  options.headless = True\n"
          ]
        }
      ],
      "source": [
        "options = Options()\n",
        "options.add_argument(\"headless\")\n",
        "options.add_argument(\"--no-sandbox\")\n",
        "\n",
        "options.headless = True"
      ]
    },
    {
      "cell_type": "markdown",
      "id": "0da7f802",
      "metadata": {
        "id": "0da7f802"
      },
      "source": [
        "## Initializing the webdriver"
      ]
    },
    {
      "cell_type": "code",
      "execution_count": null,
      "id": "1d9b34f5",
      "metadata": {
        "id": "1d9b34f5",
        "outputId": "88b08477-56da-4251-c98f-99efe8b3fc32"
      },
      "outputs": [
        {
          "name": "stderr",
          "output_type": "stream",
          "text": [
            "C:\\Users\\sasif\\AppData\\Local\\Temp\\ipykernel_9768\\963660186.py:1: DeprecationWarning: executable_path has been deprecated, please pass in a Service object\n",
            "  driver = webdriver.Chrome(r\"C:\\Users\\sasif\\Downloads\\chromedriver\\chromedriver\", options=options)\n"
          ]
        }
      ],
      "source": [
        "driver = webdriver.Chrome(r\"C:\\Users\\sasif\\Downloads\\chromedriver\\chromedriver\", options=options)"
      ]
    },
    {
      "cell_type": "markdown",
      "id": "34fed460",
      "metadata": {
        "id": "34fed460"
      },
      "source": [
        "## Connecting to LinkedIn"
      ]
    },
    {
      "cell_type": "code",
      "execution_count": null,
      "id": "ff77c828",
      "metadata": {
        "id": "ff77c828"
      },
      "outputs": [],
      "source": [
        "driver.get(\"https://www.linkedin.com/login\")\n",
        "WebDriverWait(driver, timeout=15).until(lambda d: d.find_element(By.XPATH,'//input[@id = \"username\"]'))\n",
        "username = driver.find_element(By.XPATH,'//input[@id = \"username\"]')\n",
        "username.send_keys('')\n",
        "WebDriverWait(driver, timeout=15).until(lambda d: d.find_element(By.XPATH,'//input[@id = \"password\"]'))\n",
        "password = driver.find_element(By.XPATH,'//input[@id = \"password\"]')\n",
        "password.send_keys(''+ Keys.ENTER)"
      ]
    },
    {
      "cell_type": "code",
      "execution_count": null,
      "id": "457e1d11",
      "metadata": {
        "id": "457e1d11"
      },
      "outputs": [],
      "source": [
        "profile_url = 'https://www.linkedin.com/in/***/'\n",
        "shareurl = profile_url+'/recent-activity/shares/'"
      ]
    },
    {
      "cell_type": "code",
      "execution_count": null,
      "id": "e2ec0c82",
      "metadata": {
        "id": "e2ec0c82",
        "outputId": "01920a2b-8148-4f8b-b4f2-f344637a3a60"
      },
      "outputs": [
        {
          "data": {
            "text/plain": [
              "<selenium.webdriver.remote.webelement.WebElement (session=\"e9794f2a8ebeeac744126567e56b794e\", element=\"0c06138e-b59e-4612-afcc-98507a509524\")>"
            ]
          },
          "execution_count": 6,
          "metadata": {},
          "output_type": "execute_result"
        }
      ],
      "source": [
        "driver.get(shareurl)\n",
        "WebDriverWait(driver, timeout=15).until(lambda d: d.find_element(By.XPATH,'//div[contains(@data-urn, \"urn\")]'))"
      ]
    },
    {
      "cell_type": "code",
      "execution_count": null,
      "id": "912eab98",
      "metadata": {
        "id": "912eab98"
      },
      "outputs": [],
      "source": [
        "try:\n",
        "    Name = driver.find_element(By.XPATH, '//div[contains(@class, \"sticky-content\")]/div/div[3]/h3')\n",
        "except:\n",
        "    Name = driver.find_element(By.XPATH, '//div[contains(@class, \"sticky-content\")]/div/div[4]/h3')"
      ]
    },
    {
      "cell_type": "code",
      "execution_count": null,
      "id": "d916d819",
      "metadata": {
        "id": "d916d819"
      },
      "outputs": [],
      "source": [
        "# Scroll down the page by moving the mouse down on the sidebar\n",
        "#last_height = driver.execute_script(\"return document.body.scrollHeight\")\n",
        "#start_time = time.time()\n",
        "#while time.time() - start_time < 90:\n",
        "    # Move the mouse to the sidebar lo:\n",
        "    # Move the mouse to the sidebar location and scroll down\n",
        "#    driver.execute_script(\"window.scrollTo(0,document.body.scrollHeight)\")\n",
        "\n",
        "#    time.sleep(2.0)\n",
        "\n",
        "    # Get the new page height and check if it has changed\n",
        "#    new_height = driver.execute_script(\"return document.body.scrollHeight\")\n",
        "#    if new_height == last_height:\n",
        "#        break\n",
        "#    last_height = new_height"
      ]
    },
    {
      "cell_type": "code",
      "execution_count": null,
      "id": "eab851da",
      "metadata": {
        "id": "eab851da"
      },
      "outputs": [],
      "source": [
        "postnames = driver.find_elements(By.XPATH, '//div[contains(@class, \"update-components-actor\")]/a/div[3]/span/span/span')\n",
        "author_repost = []\n",
        "for i in postnames:\n",
        "    if Name != i.text:\n",
        "        author_repost.append(True)\n",
        "    else:\n",
        "        author_repost.append(False)"
      ]
    },
    {
      "cell_type": "code",
      "execution_count": null,
      "id": "b8f4771a",
      "metadata": {
        "id": "b8f4771a",
        "outputId": "bda187f9-041e-432a-c8d8-50a2f66a90c0"
      },
      "outputs": [
        {
          "data": {
            "text/plain": [
              "['14 hours ago',\n",
              " '1 day ago',\n",
              " '2 days ago',\n",
              " '2 days ago',\n",
              " '3 days ago',\n",
              " '3 days ago',\n",
              " '4 days ago',\n",
              " '4 days ago']"
            ]
          },
          "execution_count": 10,
          "metadata": {},
          "output_type": "execute_result"
        }
      ],
      "source": [
        "text = driver.find_elements(By.XPATH, '//div[contains(@class, \"update-components-actor\")]/a/div[3]/span[3]/div/span/span')\n",
        "span = []\n",
        "for i in text:\n",
        "    if \"ago\" in i.text:\n",
        "        span.append(i.text)\n",
        "span"
      ]
    },
    {
      "cell_type": "code",
      "execution_count": null,
      "id": "df1beee4",
      "metadata": {
        "id": "df1beee4"
      },
      "outputs": [],
      "source": [
        "text = driver.find_elements(By.XPATH, '//div[contains(@class, \"commentary\")]/span/span/span[@dir = \"ltr\"]')"
      ]
    },
    {
      "cell_type": "code",
      "execution_count": null,
      "id": "8ec5f3a1",
      "metadata": {
        "id": "8ec5f3a1"
      },
      "outputs": [],
      "source": [
        "post = []\n",
        "for i in text:\n",
        "    post.append(i.text)"
      ]
    },
    {
      "cell_type": "code",
      "execution_count": null,
      "id": "d22b97cd",
      "metadata": {
        "id": "d22b97cd"
      },
      "outputs": [],
      "source": [
        "text = driver.find_elements(By.XPATH,'//ul[contains(@class, \"social-counts\")]/li[1]/button[@aria-label]')\n",
        "likes = []\n",
        "for i in text:\n",
        "    likes.append(i.text)"
      ]
    },
    {
      "cell_type": "code",
      "execution_count": null,
      "id": "3cecbeab",
      "metadata": {
        "id": "3cecbeab"
      },
      "outputs": [],
      "source": [
        "text = driver.find_elements(By.XPATH,'//ul[contains(@class, \"social-counts\")]/li[2]/button[@aria-label]')\n",
        "comments = []\n",
        "for i in text:\n",
        "    comments.append(i.text)"
      ]
    },
    {
      "cell_type": "code",
      "execution_count": null,
      "id": "f54ecb2c",
      "metadata": {
        "id": "f54ecb2c"
      },
      "outputs": [],
      "source": [
        "text = driver.find_elements(By.XPATH, '//div[@data-urn]')\n",
        "urn = []\n",
        "for i in text:\n",
        "    urn.append(i.text)"
      ]
    },
    {
      "cell_type": "code",
      "execution_count": null,
      "id": "b68cfb37",
      "metadata": {
        "id": "b68cfb37"
      },
      "outputs": [],
      "source": [
        "r = \"Activate to view larger image\"\n",
        "image = [True if r in s else False for s in urn]"
      ]
    },
    {
      "cell_type": "code",
      "execution_count": null,
      "id": "7eba2ae2",
      "metadata": {
        "id": "7eba2ae2"
      },
      "outputs": [],
      "source": [
        "import re\n",
        "r = r\"[0-9]{1,2} repost(s)?\"\n",
        "reposts = [re.search(r, s).group(0) if re.search(r, s) else False for s in urn]"
      ]
    },
    {
      "cell_type": "code",
      "execution_count": null,
      "id": "86b6422c",
      "metadata": {
        "id": "86b6422c"
      },
      "outputs": [],
      "source": [
        "from lxml import etree\n",
        "text = etree.HTML(driver.page_source)\n",
        "div = text.xpath('//div[contains(@class, \"commentary\")]/span/span/span[@dir = \"ltr\"]')"
      ]
    },
    {
      "cell_type": "code",
      "execution_count": null,
      "id": "57906ac8",
      "metadata": {
        "id": "57906ac8"
      },
      "outputs": [],
      "source": [
        "hashtags = []\n",
        "for i in div:\n",
        "    hashtags.append(i.xpath('count(a[contains(@href,\"hashtag\")])'))"
      ]
    },
    {
      "cell_type": "code",
      "execution_count": null,
      "id": "e9ee783c",
      "metadata": {
        "id": "e9ee783c"
      },
      "outputs": [],
      "source": [
        "mentions = []\n",
        "for i in div:\n",
        "    mentions.append(i.xpath('count(a[contains(@data-entity-type,\"MINI\")])'))"
      ]
    },
    {
      "cell_type": "code",
      "execution_count": null,
      "id": "aee61c26",
      "metadata": {
        "id": "aee61c26"
      },
      "outputs": [],
      "source": [
        "text = etree.HTML(driver.page_source)\n",
        "div = text.xpath('//div[contains(@class,\"scaffold-finite\")]/div/div[contains(@class,\"ember\")]')"
      ]
    },
    {
      "cell_type": "code",
      "execution_count": null,
      "id": "4f773f46",
      "metadata": {
        "id": "4f773f46"
      },
      "outputs": [],
      "source": [
        "listtemp = div[0].xpath('//@data-urn')\n",
        "urnlist = [re.search(\"\\d+\", s).group(0) if re.search(\"\\d+\", s) else False for s in listtemp]"
      ]
    },
    {
      "cell_type": "code",
      "execution_count": null,
      "id": "f1296798",
      "metadata": {
        "id": "f1296798"
      },
      "outputs": [],
      "source": [
        "try:\n",
        "    followers = driver.find_element(By.XPATH,'//div[contains(@class,\"scaffold\")]/div/div[4]/div/div/div[2]').text\n",
        "except:\n",
        "    followers = driver.find_element(By.XPATH,'//div[contains(@class,\"scaffold\")]/div/div[5]/div/div/div[2]').text\n",
        " "
      ]
    },
    {
      "cell_type": "code",
      "execution_count": null,
      "id": "0d56127b",
      "metadata": {
        "id": "0d56127b"
      },
      "outputs": [],
      "source": [
        "driver.get(profile_url)\n",
        "WebDriverWait(driver, timeout=15).until(lambda d: d.find_element(By.XPATH,'//div[contains(@class, \"mt2\")]'))\n",
        "location = driver.find_element(By.XPATH, '//div[contains(@class, \"mt2\")]/div[2]/span[1]').text"
      ]
    },
    {
      "cell_type": "code",
      "execution_count": null,
      "id": "8ae6b2fd",
      "metadata": {
        "id": "8ae6b2fd"
      },
      "outputs": [],
      "source": [
        "time.sleep(3)"
      ]
    },
    {
      "cell_type": "code",
      "execution_count": null,
      "id": "4b8cc6a3",
      "metadata": {
        "id": "4b8cc6a3"
      },
      "outputs": [],
      "source": [
        "duration = driver.find_element(By.XPATH, '//section[div[@id = \"experience\"]]/div[3]/ul/li[1]/div/div[2]/div/div/span[2]/span').text\n",
        "if re.search(r'Present',duration):\n",
        "    title = driver.find_element(By.XPATH, '//section[div[@id = \"experience\"]]/div[3]/ul/li[1]/div/div[2]/div/div/div[1]/span/span[1]').text\n",
        "    employer = driver.find_element(By.XPATH, '//section[div[@id = \"experience\"]]/div[3]/ul/li[1]/div/div[2]/div/div/span[1]/span').text"
      ]
    },
    {
      "cell_type": "code",
      "execution_count": null,
      "id": "9424c7b0",
      "metadata": {
        "id": "9424c7b0",
        "outputId": "d73dae62-9357-454c-d20e-22ae11854fff"
      },
      "outputs": [
        {
          "data": {
            "text/plain": [
              "'Aug 2019 - Present · 3 yrs 7 mos'"
            ]
          },
          "execution_count": 27,
          "metadata": {},
          "output_type": "execute_result"
        }
      ],
      "source": [
        "duration"
      ]
    },
    {
      "cell_type": "code",
      "execution_count": null,
      "id": "e600777e",
      "metadata": {
        "id": "e600777e",
        "outputId": "3fe368f0-ddae-464b-9977-63e0666b5018"
      },
      "outputs": [
        {
          "data": {
            "text/plain": [
              "\"It doesn't matter if you work for yourself or someone else - as long as your calendar is filled with unwanted obligations, you're not truly wealthy.\\n\\nI use a simple 4-question process to remove them. Learn to apply it here: https://lnkd.in/eAhKHG_4\""
            ]
          },
          "execution_count": 30,
          "metadata": {},
          "output_type": "execute_result"
        }
      ],
      "source": [
        "post[2]"
      ]
    },
    {
      "cell_type": "code",
      "execution_count": null,
      "id": "5e5a89bb",
      "metadata": {
        "id": "5e5a89bb"
      },
      "outputs": [],
      "source": []
    }
  ],
  "metadata": {
    "kernelspec": {
      "display_name": "Python 3 (ipykernel)",
      "language": "python",
      "name": "python3"
    },
    "language_info": {
      "codemirror_mode": {
        "name": "ipython",
        "version": 3
      },
      "file_extension": ".py",
      "mimetype": "text/x-python",
      "name": "python",
      "nbconvert_exporter": "python",
      "pygments_lexer": "ipython3",
      "version": "3.10.9"
    },
    "colab": {
      "provenance": []
    }
  },
  "nbformat": 4,
  "nbformat_minor": 5
}