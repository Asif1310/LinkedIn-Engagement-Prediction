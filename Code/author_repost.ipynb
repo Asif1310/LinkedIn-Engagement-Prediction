{
  "cells": [
    {
      "cell_type": "code",
      "execution_count": null,
      "id": "d7ba6a06",
      "metadata": {
        "id": "d7ba6a06"
      },
      "outputs": [],
      "source": [
        "!pip install time\n",
        "!pip install pandas"
      ]
    },
    {
      "cell_type": "code",
      "execution_count": null,
      "id": "af540289",
      "metadata": {
        "id": "af540289"
      },
      "outputs": [],
      "source": [
        "from selenium import webdriver\n",
        "from selenium.webdriver.chrome.options import Options\n",
        "from selenium.webdriver.common.keys import Keys\n",
        "from selenium.webdriver.common.by import By\n",
        "from selenium.webdriver.support.ui import WebDriverWait\n",
        "from selenium.webdriver.common.action_chains import ActionChains\n",
        "import time"
      ]
    },
    {
      "cell_type": "code",
      "execution_count": null,
      "id": "bd094a4d",
      "metadata": {
        "id": "bd094a4d"
      },
      "outputs": [],
      "source": [
        "options = Options()\n",
        "options.add_argument(\"headless\")\n",
        "options.add_argument(\"--no-sandbox\")\n",
        "\n",
        "options.headless = True"
      ]
    },
    {
      "cell_type": "code",
      "execution_count": null,
      "id": "46cd601d",
      "metadata": {
        "id": "46cd601d"
      },
      "outputs": [],
      "source": [
        "driver = webdriver.Chrome(r\"C:\\Users\\sasif\\Downloads\\chromedriver\\chromedriver\", options=options)"
      ]
    },
    {
      "cell_type": "code",
      "execution_count": null,
      "id": "e79559bd",
      "metadata": {
        "id": "e79559bd"
      },
      "outputs": [],
      "source": [
        "driver.get(\"https://www.linkedin.com/login\")\n",
        "WebDriverWait(driver, timeout=15).until(lambda d: d.find_element(By.XPATH,'//input[@id = \"username\"]'))\n",
        "username = driver.find_element(By.XPATH,'//input[@id = \"username\"]')\n",
        "username.send_keys('**')\n",
        "WebDriverWait(driver, timeout=15).until(lambda d: d.find_element(By.XPATH,'//input[@id = \"password\"]'))\n",
        "password = driver.find_element(By.XPATH,'//input[@id = \"password\"]')\n",
        "password.send_keys('**'+ Keys.ENTER)"
      ]
    },
    {
      "cell_type": "code",
      "execution_count": null,
      "id": "fab2e48d",
      "metadata": {
        "id": "fab2e48d"
      },
      "outputs": [],
      "source": [
        "import pandas as pd\n",
        "df = pd.read_csv(r'C:\\Users\\sasif\\Downloads\\rp.csv')"
      ]
    },
    {
      "cell_type": "code",
      "execution_count": null,
      "id": "1d156a4d",
      "metadata": {
        "id": "1d156a4d"
      },
      "outputs": [],
      "source": [
        "author_repost = []\n",
        "for count,i in enumerate(df['POST_URL']):\n",
        "    driver.get(i)\n",
        "    WebDriverWait(driver, timeout=15).until(lambda d: d.find_element(By.XPATH,'//div[contains(@data-urn, \"urn\")]'))\n",
        "    postnames = driver.find_element(By.XPATH, '//div[contains(@class, \"update-components-actor\")]/a/div[3]/span/span/span').text\n",
        "    if df['AUTHOR_NAME'][count] != postnames:\n",
        "        author_repost.append([i,True])\n",
        "    else:\n",
        "        author_repost.append([i,False])\n",
        "    import time\n",
        "    time.sleep(3)"
      ]
    },
    {
      "cell_type": "code",
      "execution_count": null,
      "id": "02bf6a68",
      "metadata": {
        "id": "02bf6a68"
      },
      "outputs": [],
      "source": [
        "author_repost"
      ]
    }
  ],
  "metadata": {
    "kernelspec": {
      "display_name": "Python 3 (ipykernel)",
      "language": "python",
      "name": "python3"
    },
    "language_info": {
      "codemirror_mode": {
        "name": "ipython",
        "version": 3
      },
      "file_extension": ".py",
      "mimetype": "text/x-python",
      "name": "python",
      "nbconvert_exporter": "python",
      "pygments_lexer": "ipython3",
      "version": "3.10.9"
    },
    "colab": {
      "provenance": []
    }
  },
  "nbformat": 4,
  "nbformat_minor": 5
}