{
  "nbformat": 4,
  "nbformat_minor": 0,
  "metadata": {
    "colab": {
      "provenance": []
    },
    "kernelspec": {
      "name": "python3",
      "display_name": "Python 3"
    },
    "language_info": {
      "name": "python"
    }
  },
  "cells": [
    {
      "cell_type": "code",
      "source": [
        "import pandas as pd\n",
        "from sklearn.linear_model import LinearRegression\n",
        "from sklearn.metrics import mean_squared_error\n",
        "import numpy as np\n",
        "from sklearn.preprocessing import StandardScaler\n",
        "from sklearn.model_selection import train_test_split\n",
        "from scipy.stats import linregress\n",
        "from sklearn.metrics import r2_score"
      ],
      "metadata": {
        "id": "crkhKcM_UaUR"
      },
      "execution_count": 273,
      "outputs": []
    },
    {
      "cell_type": "markdown",
      "source": [
        "*Data Import*"
      ],
      "metadata": {
        "id": "od881_fO9oOK"
      }
    },
    {
      "cell_type": "code",
      "source": [
        "df = pd.read_csv('/content/rp.csv')"
      ],
      "metadata": {
        "id": "cM_axyYWUh_j"
      },
      "execution_count": 303,
      "outputs": []
    },
    {
      "cell_type": "markdown",
      "source": [
        "*Data Cleaning*"
      ],
      "metadata": {
        "id": "yXfNFw1fidK2"
      }
    },
    {
      "cell_type": "code",
      "source": [
        "df['COMPANY_MENTION'].fillna(0, inplace = True)\n",
        "df['COMPANY_MENTION'] = df['COMPANY_MENTION'].replace('[]',0)\n",
        "df.loc[df['COMPANY_MENTION'] != 0, 'COMPANY_MENTION'] = 1\n",
        "df['PROFILE_MENTION'].fillna(0, inplace = True)\n",
        "df.loc[df['PROFILE_MENTION'] != 0, 'PROFILE_MENTION'] = 1\n",
        "df['POLL_ID'].fillna(0, inplace = True)\n",
        "df.loc[df['POLL_ID'] != 0, 'POLL_ID'] = 1\n",
        "df['PUBLISHED_DATE'] = pd.to_datetime(df['PUBLISHED_DATE'], utc = True)\n",
        "df['DATE_EXTRACT'] = pd.to_datetime(df['DATE_EXTRACT'], utc = True)\n",
        "df['AGE_IN_DAYS'] = (df['DATE_EXTRACT'] - df['PUBLISHED_DATE']).dt.days\n",
        "df['POLL_ID'] = df['POLL_ID'].astype(int)\n",
        "df = df[['TEXT','CHARACTER_COUNT','TAGS','TAGS_COUNT','EMOJIS_COUNT','LINKS_COUNT','PROFILE_MENTION','COMPANY_MENTION','CONTENT','POLL_ID','COMMENTS','LIKES','AGE_IN_DAYS']]\n",
        "df['ENGAGEMENT'] = df['LIKES']+(df['COMMENTS']*5)"
      ],
      "metadata": {
        "colab": {
          "base_uri": "https://localhost:8080/"
        },
        "id": "b50WalkkmzB2",
        "outputId": "ae74c055-5fdc-4fa1-db40-af916293c568"
      },
      "execution_count": 304,
      "outputs": [
        {
          "output_type": "stream",
          "name": "stderr",
          "text": [
            "<ipython-input-304-49b3c81223d6>:13: SettingWithCopyWarning: \n",
            "A value is trying to be set on a copy of a slice from a DataFrame.\n",
            "Try using .loc[row_indexer,col_indexer] = value instead\n",
            "\n",
            "See the caveats in the documentation: https://pandas.pydata.org/pandas-docs/stable/user_guide/indexing.html#returning-a-view-versus-a-copy\n",
            "  df['ENGAGEMENT'] = df['LIKES']+(df['COMMENTS']*5)\n"
          ]
        }
      ]
    },
    {
      "cell_type": "markdown",
      "source": [
        "Initial Model"
      ],
      "metadata": {
        "id": "LhNPWHc35B_l"
      }
    },
    {
      "cell_type": "code",
      "source": [
        "pm = pd.get_dummies(df['PROFILE_MENTION'], prefix='PROFILEMENTION', drop_first=True)\n",
        "cm = pd.get_dummies(df['COMPANY_MENTION'], prefix='COMPANYMENTION', drop_first=True)\n",
        "poll = pd.get_dummies(df['POLL_ID'], prefix='POLL', drop_first=True)\n",
        "con = pd.get_dummies(df['CONTENT'], prefix='CONTENT', drop_first=True)\n",
        "X = pd.concat([pm,cm,poll,con,df['CHARACTER_COUNT'],df['AGE_IN_DAYS'], df['LINKS_COUNT'],df['EMOJIS_COUNT'],df['TAGS_COUNT']], axis = 1)\n",
        "Y = df['ENGAGEMENT']"
      ],
      "metadata": {
        "id": "pVwCVHGT5BTN"
      },
      "execution_count": 277,
      "outputs": []
    },
    {
      "cell_type": "code",
      "source": [
        "X_train, X_test, Y_train, Y_test = train_test_split(X, Y, test_size=0.15, random_state=42, shuffle=True)\n",
        "scaler = StandardScaler()\n",
        "X_scaled = scaler.fit_transform(X_train)\n",
        "X_test_scaled = scaler.transform(X_test)\n",
        "# Create a LinearRegression object\n",
        "lr_model = LinearRegression()\n",
        "# Fit the model on the training data\n",
        "lr_model.fit(X_scaled, Y_train)\n",
        "Y_pred = lr_model.predict(X_test_scaled)\n",
        "rmse = np.sqrt(mean_squared_error(Y_test, Y_pred))"
      ],
      "metadata": {
        "id": "vM53qTEQ6ReU"
      },
      "execution_count": 279,
      "outputs": []
    },
    {
      "cell_type": "code",
      "source": [
        "slope, intercept, r_value, p_value, std_err = linregress(Y_test, Y_pred)\n",
        "r_squared = r_value ** 2\n",
        "r_squared"
      ],
      "metadata": {
        "colab": {
          "base_uri": "https://localhost:8080/"
        },
        "id": "S4BUQaki7ncs",
        "outputId": "c0cb3126-47a2-4d10-b60f-20cd7681ad68"
      },
      "execution_count": 280,
      "outputs": [
        {
          "output_type": "execute_result",
          "data": {
            "text/plain": [
              "0.08059184456002483"
            ]
          },
          "metadata": {},
          "execution_count": 280
        }
      ]
    },
    {
      "cell_type": "code",
      "source": [
        "rmse"
      ],
      "metadata": {
        "colab": {
          "base_uri": "https://localhost:8080/"
        },
        "id": "FCftEU2M6rZz",
        "outputId": "7be8139a-60a5-4295-fb26-688a1c2ce8e6"
      },
      "execution_count": 281,
      "outputs": [
        {
          "output_type": "execute_result",
          "data": {
            "text/plain": [
              "3527.303281157933"
            ]
          },
          "metadata": {},
          "execution_count": 281
        }
      ]
    },
    {
      "cell_type": "markdown",
      "source": [
        "*Extra Preprocessing*"
      ],
      "metadata": {
        "id": "iKh2lhb8ii1e"
      }
    },
    {
      "cell_type": "code",
      "source": [
        "conditions = [(df['EMOJIS_COUNT'] == 0),(df['EMOJIS_COUNT'] > 0)]\n",
        "categories = [False,True]\n",
        "df['EMOJIS_USED'] = pd.DataFrame(np.select(conditions, categories))"
      ],
      "metadata": {
        "id": "vvj3eMRajcwQ"
      },
      "execution_count": null,
      "outputs": []
    },
    {
      "cell_type": "code",
      "source": [
        "conditions = [(df['TAGS_COUNT'] == 0),(df['TAGS_COUNT'] < 6),(df['TAGS_COUNT'] >= 6)]\n",
        "categories = ['0','1-5','6 and more']\n",
        "df['TAGS_USED'] = pd.DataFrame(np.select(conditions, categories))"
      ],
      "metadata": {
        "colab": {
          "base_uri": "https://localhost:8080/"
        },
        "id": "thRLwTTPlQG0",
        "outputId": "4d5b18b0-bc0c-4bb6-bbde-b88472e08774"
      },
      "execution_count": 283,
      "outputs": [
        {
          "output_type": "stream",
          "name": "stderr",
          "text": [
            "<ipython-input-283-946af81a2d48>:3: SettingWithCopyWarning: \n",
            "A value is trying to be set on a copy of a slice from a DataFrame.\n",
            "Try using .loc[row_indexer,col_indexer] = value instead\n",
            "\n",
            "See the caveats in the documentation: https://pandas.pydata.org/pandas-docs/stable/user_guide/indexing.html#returning-a-view-versus-a-copy\n",
            "  df['TAGS_USED'] = pd.DataFrame(np.select(conditions, categories))\n"
          ]
        }
      ]
    },
    {
      "cell_type": "markdown",
      "source": [
        "*Second Model*"
      ],
      "metadata": {
        "id": "I3rlMq9q801M"
      }
    },
    {
      "cell_type": "code",
      "source": [
        "pm = pd.get_dummies(df['PROFILE_MENTION'], prefix='PROFILEMENTION', drop_first=True)\n",
        "cm = pd.get_dummies(df['COMPANY_MENTION'], prefix='COMPANYMENTION', drop_first=True)\n",
        "poll = pd.get_dummies(df['POLL_ID'], prefix='POLL', drop_first=True)\n",
        "con = pd.get_dummies(df['CONTENT'], prefix='CONTENT', drop_first=True)\n",
        "lin =  pd.get_dummies(df['LINKS_COUNT'], prefix='LINKS', drop_first=True)\n",
        "tag =  pd.get_dummies(df['TAGS_USED'], prefix='TAGS', drop_first=True)\n",
        "emo =  pd.get_dummies(df['EMOJIS_USED'], prefix='EMOJIS', drop_first=True)\n",
        "X = pd.concat([pm,cm,poll,con,lin,tag,emo,df['CHARACTER_COUNT'],df['AGE_IN_DAYS']], axis = 1)"
      ],
      "metadata": {
        "id": "ZfQPF4ofiuKP"
      },
      "execution_count": 284,
      "outputs": []
    },
    {
      "cell_type": "code",
      "source": [
        "X_train, X_test, Y_train, Y_test = train_test_split(X, Y, test_size=0.15, random_state=42, shuffle=True)\n",
        "scaler = StandardScaler()\n",
        "X_scaled = scaler.fit_transform(X_train)\n",
        "X_test_scaled = scaler.transform(X_test)\n",
        "# Create a LinearRegression object\n",
        "lr_model = LinearRegression()\n",
        "# Fit the model on the training data\n",
        "lr_model.fit(X_scaled, Y_train)\n",
        "Y_pred = lr_model.predict(X_test_scaled)\n",
        "rmse = np.sqrt(mean_squared_error(Y_test, Y_pred))"
      ],
      "metadata": {
        "id": "rjtzYI9_x-Ir"
      },
      "execution_count": 285,
      "outputs": []
    },
    {
      "cell_type": "code",
      "source": [
        "slope, intercept, r_value, p_value, std_err = linregress(Y_test, Y_pred)\n",
        "r_squared = r_value ** 2\n",
        "r_squared"
      ],
      "metadata": {
        "colab": {
          "base_uri": "https://localhost:8080/"
        },
        "id": "2nBTxMFr8MnL",
        "outputId": "edca2c78-97f9-420e-d51b-47a67b7d55ce"
      },
      "execution_count": 286,
      "outputs": [
        {
          "output_type": "execute_result",
          "data": {
            "text/plain": [
              "0.09293875232129989"
            ]
          },
          "metadata": {},
          "execution_count": 286
        }
      ]
    },
    {
      "cell_type": "code",
      "source": [
        "rmse"
      ],
      "metadata": {
        "colab": {
          "base_uri": "https://localhost:8080/"
        },
        "id": "yV4SGSw68Tfy",
        "outputId": "233a5fbe-e8ee-4209-faaf-8ab74023bda6"
      },
      "execution_count": 287,
      "outputs": [
        {
          "output_type": "execute_result",
          "data": {
            "text/plain": [
              "3634.0893231108107"
            ]
          },
          "metadata": {},
          "execution_count": 287
        }
      ]
    },
    {
      "cell_type": "markdown",
      "source": [
        "*Third Model*"
      ],
      "metadata": {
        "id": "_aDhbHjr84ay"
      }
    },
    {
      "cell_type": "code",
      "source": [
        "import matplotlib.pyplot as plt\n",
        "import numpy as np\n",
        "\n",
        "fig, ax = plt.subplots(2, 2, figsize=(7,6))  # Increase figure size to 8x8 inches\n",
        "ax[0, 0].hist(np.sqrt(X['CHARACTER_COUNT']))\n",
        "ax[0, 0].set_xlabel('Square root of CHARACTER_COUNT')\n",
        "ax[0, 0].set_ylabel('Count')\n",
        "ax[0, 1].hist(np.log(X['CHARACTER_COUNT']+0.0001))\n",
        "ax[0, 1].set_xlabel('Log of CHARACTER_COUNT')\n",
        "ax[0, 1].set_ylabel('Count')\n",
        "ax[1, 0].hist(np.sqrt(X['AGE_IN_DAYS']))\n",
        "ax[1, 0].set_xlabel('Square root of AGE_IN_DAYS')\n",
        "ax[1, 0].set_ylabel('Count')\n",
        "ax[1, 1].hist(np.log(X['AGE_IN_DAYS']+0.0001))\n",
        "ax[1, 1].set_xlabel('Log of AGE_IN_DAYS')\n",
        "ax[1, 1].set_ylabel('Count')\n",
        "\n",
        "plt.tight_layout()\n",
        "plt.show()\n",
        "\n"
      ],
      "metadata": {
        "colab": {
          "base_uri": "https://localhost:8080/",
          "height": 441
        },
        "id": "FwiDdKDzd5fj",
        "outputId": "e2c1d0cf-cffd-4c7f-de6c-98aaebc95def"
      },
      "execution_count": 327,
      "outputs": [
        {
          "output_type": "display_data",
          "data": {
            "text/plain": [
              "<Figure size 504x432 with 4 Axes>"
            ],
            "image/png": "[encoded data removed]"
          },
          "metadata": {
            "needs_background": "light"
          }
        }
      ]
    },
    {
      "cell_type": "code",
      "source": [
        "X['CHARACTER_COUNT'] = np.sqrt(X['CHARACTER_COUNT'])\n",
        "X['AGE_IN_DAYS'] = np.sqrt(X['AGE_IN_DAYS'])\n",
        "Y = df['ENGAGEMENT']"
      ],
      "metadata": {
        "id": "Ob8ExgLguniU"
      },
      "execution_count": 290,
      "outputs": []
    },
    {
      "cell_type": "code",
      "source": [
        "X_train, X_test, Y_train, Y_test = train_test_split(X, Y, test_size=0.15, random_state=42, shuffle=True)\n",
        "scaler = StandardScaler()\n",
        "X_scaled = scaler.fit_transform(X_train)\n",
        "X_test_scaled = scaler.transform(X_test)\n",
        "# Create a LinearRegression object\n",
        "lr_model = LinearRegression()\n",
        "# Fit the model on the training data\n",
        "lr_model.fit(X_scaled, Y_train)\n",
        "Y_pred = lr_model.predict(X_test_scaled)\n",
        "rmse = np.sqrt(mean_squared_error(Y_test, Y_pred))"
      ],
      "metadata": {
        "id": "-tTJKB0Ug_Up"
      },
      "execution_count": 291,
      "outputs": []
    },
    {
      "cell_type": "code",
      "source": [
        "slope, intercept, r_value, p_value, std_err = linregress(Y_test, Y_pred)\n",
        "r_squared = r_value ** 2\n",
        "r_squared"
      ],
      "metadata": {
        "colab": {
          "base_uri": "https://localhost:8080/"
        },
        "id": "AAEpx8-5t7Kg",
        "outputId": "bef61d6f-7577-47bc-cb64-2e8f548d9054"
      },
      "execution_count": 292,
      "outputs": [
        {
          "output_type": "execute_result",
          "data": {
            "text/plain": [
              "0.09594784987751237"
            ]
          },
          "metadata": {},
          "execution_count": 292
        }
      ]
    },
    {
      "cell_type": "code",
      "source": [
        "rmse"
      ],
      "metadata": {
        "colab": {
          "base_uri": "https://localhost:8080/"
        },
        "id": "c56nGWTiw74Z",
        "outputId": "08ea8387-33ca-48d9-e0ed-840f0274940a"
      },
      "execution_count": 293,
      "outputs": [
        {
          "output_type": "execute_result",
          "data": {
            "text/plain": [
              "3543.2457294511487"
            ]
          },
          "metadata": {},
          "execution_count": 293
        }
      ]
    },
    {
      "cell_type": "markdown",
      "source": [
        "*Fourth Model*"
      ],
      "metadata": {
        "id": "ola6rOZh88VI"
      }
    },
    {
      "cell_type": "code",
      "source": [
        "fig, ax = plt.subplots(1, 2, figsize=(10,4))  # Increase figure size to 8x8 inches\n",
        "ax[0].hist(np.sqrt(Y))\n",
        "ax[0].set_xlabel('Square root of Engagement')\n",
        "ax[0].set_ylabel('Count')\n",
        "ax[1].hist(np.log(Y+0.01))\n",
        "ax[1].set_xlabel('Log of Engagement')\n",
        "ax[1].set_ylabel('Count')"
      ],
      "metadata": {
        "colab": {
          "base_uri": "https://localhost:8080/",
          "height": 296
        },
        "id": "at9JEOKQUpiR",
        "outputId": "dd1fe2ad-7373-4bb0-8e13-fbea7829ce0a"
      },
      "execution_count": 338,
      "outputs": [
        {
          "output_type": "execute_result",
          "data": {
            "text/plain": [
              "Text(0, 0.5, 'Count')"
            ]
          },
          "metadata": {},
          "execution_count": 338
        },
        {
          "output_type": "display_data",
          "data": {
            "text/plain": [
              "<Figure size 720x288 with 2 Axes>"
            ],
            "image/png": "[encoded data removed]"
          },
          "metadata": {
            "needs_background": "light"
          }
        }
      ]
    },
    {
      "cell_type": "code",
      "source": [
        "X_train, X_test, Y_train, Y_test = train_test_split(X, Y, test_size=0.15, random_state=42, shuffle=True)\n",
        "scaler = StandardScaler()\n",
        "X_scaled = scaler.fit_transform(X_train)\n",
        "X_test_scaled = scaler.transform(X_test)\n",
        "# Create a LinearRegression object\n",
        "lr_model = LinearRegression()\n",
        "# Fit the model on the training data\n",
        "lr_model.fit(X_scaled, np.log(Y_train + 0.01))\n",
        "Y_pred = np.exp(lr_model.predict(X_test_scaled))-0.01\n",
        "rmse = np.sqrt(mean_squared_error(Y_test, Y_pred))"
      ],
      "metadata": {
        "id": "SlQyr42nvhhA"
      },
      "execution_count": 294,
      "outputs": []
    },
    {
      "cell_type": "code",
      "source": [
        "slope, intercept, r_value, p_value, std_err = linregress(Y_test, Y_pred)\n",
        "r_squared = r_value ** 2\n",
        "r_squared"
      ],
      "metadata": {
        "colab": {
          "base_uri": "https://localhost:8080/"
        },
        "id": "LNYOB2cthn_4",
        "outputId": "cbe8e3c0-42a9-4c4e-f4c5-5d67cb322c00"
      },
      "execution_count": 295,
      "outputs": [
        {
          "output_type": "execute_result",
          "data": {
            "text/plain": [
              "0.2048926044148476"
            ]
          },
          "metadata": {},
          "execution_count": 295
        }
      ]
    },
    {
      "cell_type": "code",
      "source": [
        "rmse"
      ],
      "metadata": {
        "colab": {
          "base_uri": "https://localhost:8080/"
        },
        "id": "FHwkbKGww-sG",
        "outputId": "707d1d30-c281-41da-a6cf-e0e4c6c1e3e2"
      },
      "execution_count": 296,
      "outputs": [
        {
          "output_type": "execute_result",
          "data": {
            "text/plain": [
              "1713.04705388622"
            ]
          },
          "metadata": {},
          "execution_count": 296
        }
      ]
    },
    {
      "cell_type": "code",
      "source": [
        "coefficients = lr_model.coef_\n",
        "intercept = lr_model.intercept_"
      ],
      "metadata": {
        "id": "f1LqIY24JVVB"
      },
      "execution_count": null,
      "outputs": []
    },
    {
      "cell_type": "code",
      "source": [
        "X.drop(columns = 'ENGAGEMENT').columns"
      ],
      "metadata": {
        "colab": {
          "base_uri": "https://localhost:8080/"
        },
        "id": "eGZ2NsWVP-Gw",
        "outputId": "89908fb2-486a-4efc-f682-36400b672b8f"
      },
      "execution_count": 313,
      "outputs": [
        {
          "output_type": "execute_result",
          "data": {
            "text/plain": [
              "Index(['PROFILEMENTION_1', 'COMPANYMENTION_1', 'POLL_1', 'CONTENT_Document',\n",
              "       'CONTENT_Image', 'CONTENT_Poll', 'CONTENT_Text',\n",
              "       'CONTENT_Video (external)', 'CONTENT_Video (native)', 'LINKS_1',\n",
              "       'LINKS_2', 'TAGS_1-5', 'TAGS_6 and more', 'EMOJIS_1', 'CHARACTER_COUNT',\n",
              "       'AGE_IN_DAYS'],\n",
              "      dtype='object')"
            ]
          },
          "metadata": {},
          "execution_count": 313
        }
      ]
    },
    {
      "cell_type": "code",
      "source": [
        "coefficients"
      ],
      "metadata": {
        "colab": {
          "base_uri": "https://localhost:8080/"
        },
        "id": "Ie7ZxtIoMuNi",
        "outputId": "f8f9a26c-acbf-4a28-dbd0-dce697f9e090"
      },
      "execution_count": 310,
      "outputs": [
        {
          "output_type": "execute_result",
          "data": {
            "text/plain": [
              "array([ 3.30271762e-01, -3.52527927e-01,  3.78103653e+13, -2.80962113e-01,\n",
              "        4.50109556e-01, -3.78103653e+13, -2.39827844e-02,  4.91149952e-02,\n",
              "       -4.10661389e-02,  3.63829069e-01, -3.03839857e-01, -1.64783983e-01,\n",
              "       -6.49847376e-01, -3.25824118e-01,  2.33963120e-02, -6.75051977e-01])"
            ]
          },
          "metadata": {},
          "execution_count": 310
        }
      ]
    },
    {
      "cell_type": "markdown",
      "source": [
        "*Fifth Model*"
      ],
      "metadata": {
        "id": "jlpQXNYu9BD2"
      }
    },
    {
      "cell_type": "code",
      "source": [
        "dep_var = df['ENGAGEMENT']\n",
        "dep_var_z_scores = np.abs((dep_var - dep_var.mean()) / dep_var.std())\n",
        "df = df[dep_var_z_scores < 3]"
      ],
      "metadata": {
        "id": "E7FvZGmdZUVG"
      },
      "execution_count": 257,
      "outputs": []
    },
    {
      "cell_type": "code",
      "source": [
        "pm = pd.get_dummies(df['PROFILE_MENTION'], prefix='PROFILEMENTION', drop_first=True)\n",
        "cm = pd.get_dummies(df['COMPANY_MENTION'], prefix='COMPANYMENTION', drop_first=True)\n",
        "poll = pd.get_dummies(df['POLL_ID'], prefix='POLL', drop_first=True)\n",
        "con = pd.get_dummies(df['CONTENT'], prefix='CONTENT', drop_first=True)\n",
        "lin =  pd.get_dummies(df['LINKS_COUNT'], prefix='LINKS', drop_first=True)\n",
        "tag =  pd.get_dummies(df['TAGS_USED'], prefix='TAGS', drop_first=True)\n",
        "emo =  pd.get_dummies(df['EMOJIS_USED'], prefix='EMOJIS', drop_first=True)\n",
        "X = pd.concat([pm,cm,poll,con,lin,tag,emo,df['CHARACTER_COUNT'],df['Span_days']], axis = 1)\n",
        "Y = df['ENGAGEMENT']"
      ],
      "metadata": {
        "id": "NffhwoHLB02s"
      },
      "execution_count": 262,
      "outputs": []
    },
    {
      "cell_type": "code",
      "source": [
        "X_train, X_test, Y_train, Y_test = train_test_split(X, Y, test_size=0.15, random_state=42, shuffle=True)\n",
        "scaler = StandardScaler()\n",
        "X_scaled = scaler.fit_transform(X_train)\n",
        "X_test_scaled = scaler.transform(X_test)\n",
        "# Create a LinearRegression object\n",
        "lr_model = LinearRegression()\n",
        "# Fit the model on the training data\n",
        "lr_model.fit(X_scaled, Y_train)\n",
        "Y_pred = lr_model.predict(X_test_scaled)\n",
        "rmse = np.sqrt(mean_squared_error(Y_test, Y_pred))"
      ],
      "metadata": {
        "id": "pxz2zaA2B5IY"
      },
      "execution_count": 263,
      "outputs": []
    },
    {
      "cell_type": "code",
      "source": [
        "slope, intercept, r_value, p_value, std_err = linregress(Y_test, Y_pred)\n",
        "r_squared = r_value ** 2\n",
        "r_squared"
      ],
      "metadata": {
        "colab": {
          "base_uri": "https://localhost:8080/"
        },
        "id": "t4p_dC7CB8OT",
        "outputId": "90b28f50-c668-492c-87ae-6cf171663e5c"
      },
      "execution_count": 264,
      "outputs": [
        {
          "output_type": "execute_result",
          "data": {
            "text/plain": [
              "0.15463202651721994"
            ]
          },
          "metadata": {},
          "execution_count": 264
        }
      ]
    },
    {
      "cell_type": "code",
      "source": [
        "rmse"
      ],
      "metadata": {
        "colab": {
          "base_uri": "https://localhost:8080/"
        },
        "id": "uqP_i4qgCBjY",
        "outputId": "57cf5c6a-36f1-42b3-aaea-407390f54f77"
      },
      "execution_count": 265,
      "outputs": [
        {
          "output_type": "execute_result",
          "data": {
            "text/plain": [
              "2126.144983378302"
            ]
          },
          "metadata": {},
          "execution_count": 265
        }
      ]
    }
  ]
}